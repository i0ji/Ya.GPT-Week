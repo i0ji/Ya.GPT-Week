{
 "cells": [
  {
   "cell_type": "code",
   "execution_count": null,
   "metadata": {},
   "outputs": [],
   "source": [
    "import json\n",
    "import numpy as np\n",
    "import pandas as pd\n",
    "import math\n",
    "import re"
   ]
  },
  {
   "cell_type": "markdown",
   "metadata": {},
   "source": [
    "## Готовим данные"
   ]
  },
  {
   "cell_type": "code",
   "execution_count": null,
   "metadata": {},
   "outputs": [],
   "source": [
    "fields = [\n",
    "    l for l in open('data_description.txt', 'r').read().split('\\n')\n",
    "    if len(l.strip()) > 0\n",
    "]"
   ]
  },
  {
   "cell_type": "code",
   "execution_count": null,
   "metadata": {},
   "outputs": [],
   "source": [
    "columns = [f.strip().split(': ') for f in fields if not f.startswith(' ')]\n",
    "col_names = {c[0]: f\"{c[0]}: {c[1]}\" for c in columns}\n",
    "col_names['SalePrice'] = 'SalePrice'"
   ]
  },
  {
   "cell_type": "code",
   "execution_count": null,
   "metadata": {},
   "outputs": [],
   "source": [
    "last_key = None\n",
    "fv = {}\n",
    "\n",
    "for f in fields:\n",
    "    if not f.startswith(' '):\n",
    "        last_key = f.split(': ')[0]\n",
    "        continue\n",
    "    value_pair = f.strip().split('\\t')\n",
    "    fv[(last_key, value_pair[0])] = value_pair[1]"
   ]
  },
  {
   "cell_type": "code",
   "execution_count": null,
   "metadata": {},
   "outputs": [],
   "source": [
    "s = pd.read_csv('train.csv')"
   ]
  },
  {
   "cell_type": "code",
   "execution_count": null,
   "metadata": {},
   "outputs": [],
   "source": [
    "row_dict = s.iloc[0]\n",
    "\n",
    "facts = []\n",
    "for k in row_dict.keys():\n",
    "    if k not in col_names:\n",
    "        continue\n",
    "    if str(row_dict[k]) == 'nan':\n",
    "        continue\n",
    "    facts.append(col_names[k])\n",
    "    if (k, str(row_dict[k])) in fv:\n",
    "        facts.append(f'- {fv[(k, str(row_dict[k]))]}')\n",
    "    else:\n",
    "        facts.append(f'- {row_dict[k]}')\n",
    "request = '\\n'.join(facts).replace('\\n- ', ': ')\n",
    "request = re.sub('\\n[^:]+: (?:Identifies )?', '\\n', request)\n",
    "request = re.sub('\\n(\\d+)', '\\nPrice: $\\\\1', request)"
   ]
  },
  {
   "cell_type": "code",
   "execution_count": null,
   "metadata": {},
   "outputs": [],
   "source": [
    "print(request)"
   ]
  },
  {
   "cell_type": "markdown",
   "metadata": {},
   "source": [
    "## Делаем запросы в АПИ"
   ]
  },
  {
   "cell_type": "raw",
   "metadata": {},
   "source": [
    "oauth_token = \"***\""
   ]
  },
  {
   "cell_type": "raw",
   "metadata": {},
   "source": [
    "!curl -d \"{\\\"yandexPassportOauthToken\\\":\\\"***\\\"}\" \"https://iam.api.cloud.yandex.net/iam/v1/tokens\"\n"
   ]
  },
  {
   "cell_type": "raw",
   "metadata": {},
   "source": [
    "iamtoken = \"***\""
   ]
  },
  {
   "cell_type": "raw",
   "metadata": {},
   "source": [
    "dir_id = \"***\""
   ]
  },
  {
   "cell_type": "code",
   "execution_count": null,
   "metadata": {},
   "outputs": [],
   "source": [
    "import requests"
   ]
  },
  {
   "cell_type": "code",
   "execution_count": null,
   "metadata": {},
   "outputs": [],
   "source": [
    "result = requests.post(\n",
    "    url='https://llm.api.cloud.yandex.net/llm/v1alpha/instruct',\n",
    "    headers={'Authorization': f'Bearer {iamtoken}', 'x-folder-id': dir_id},\n",
    "    json={\n",
    "      \"model\": \"general\",\n",
    "      \"instruction_text\": \"Ниже перечислены характеристики недвижимости.\",\n",
    "      \"request_text\": f\"{request}\\n\\nНа основании этой информации о недвижимости ниже напиши продающий текст на русском. Текст не должен содержать лжи и полностью соответствовать данным из характеристик.\",\n",
    "      \"generation_options\": {\n",
    "        \"max_tokens\": 1500,  \n",
    "        \"temperature\": 0.5\n",
    "      }\n",
    "    }\n",
    ")"
   ]
  },
  {
   "cell_type": "code",
   "execution_count": null,
   "metadata": {},
   "outputs": [],
   "source": [
    "print(request)"
   ]
  },
  {
   "cell_type": "code",
   "execution_count": null,
   "metadata": {},
   "outputs": [],
   "source": [
    "print(result.json()['result']['alternatives'][0]['text'])"
   ]
  },
  {
   "cell_type": "markdown",
   "metadata": {},
   "source": [
    "## Fewshot"
   ]
  },
  {
   "cell_type": "code",
   "execution_count": null,
   "metadata": {},
   "outputs": [],
   "source": [
    "import pickle\n",
    "train_dataset = pickle.load(open('fewshot.pkl', 'rb'))"
   ]
  },
  {
   "cell_type": "code",
   "execution_count": null,
   "metadata": {},
   "outputs": [],
   "source": [
    "print(\"\\n------\\n\\n\".join(v['request'] + \"\\n-----\\n\" + v['response'] for v in train_dataset))"
   ]
  },
  {
   "cell_type": "markdown",
   "metadata": {},
   "source": [
    "## Finetune"
   ]
  },
  {
   "cell_type": "code",
   "execution_count": null,
   "metadata": {},
   "outputs": [],
   "source": [
    "df = pd.read_json('../squad.json', lines=True)"
   ]
  },
  {
   "cell_type": "code",
   "execution_count": null,
   "metadata": {},
   "outputs": [],
   "source": [
    "df"
   ]
  },
  {
   "cell_type": "code",
   "execution_count": null,
   "metadata": {},
   "outputs": [],
   "source": [
    "df['request'] = df.context + '\\n\\nQuestion: ' + df.question"
   ]
  },
  {
   "cell_type": "code",
   "execution_count": null,
   "metadata": {},
   "outputs": [],
   "source": [
    "df['response'] = df.ans_texts.str[0]"
   ]
  },
  {
   "cell_type": "code",
   "execution_count": null,
   "metadata": {},
   "outputs": [],
   "source": [
    "df = df.sample(df.shape[0])"
   ]
  },
  {
   "cell_type": "code",
   "execution_count": null,
   "metadata": {},
   "outputs": [],
   "source": [
    "data = [{'request': t.request, 'response': t.response} for t in df[['request', 'response']].itertuples()]"
   ]
  },
  {
   "cell_type": "code",
   "execution_count": null,
   "metadata": {},
   "outputs": [],
   "source": [
    "train = data[:400]"
   ]
  },
  {
   "cell_type": "raw",
   "metadata": {},
   "source": [
    "\n",
    "json.dump(train, open('train.json', 'w'))"
   ]
  },
  {
   "cell_type": "code",
   "execution_count": null,
   "metadata": {},
   "outputs": [],
   "source": [
    "train = json.load(open('train.json', 'r'))"
   ]
  },
  {
   "cell_type": "code",
   "execution_count": null,
   "metadata": {},
   "outputs": [],
   "source": [
    "sample = df[~df.request.isin([t['request'] for t in train])].sample().iloc[0]\n",
    "print(sample['request'])\n",
    "print('-----')\n",
    "print(sample['response'])"
   ]
  },
  {
   "cell_type": "code",
   "execution_count": null,
   "metadata": {},
   "outputs": [],
   "source": []
  }
 ],
 "metadata": {
  "kernelspec": {
   "display_name": "Python 3",
   "language": "python",
   "name": "python3"
  },
  "language_info": {
   "codemirror_mode": {
    "name": "ipython",
    "version": 3
   },
   "file_extension": ".py",
   "mimetype": "text/x-python",
   "name": "python",
   "nbconvert_exporter": "python",
   "pygments_lexer": "ipython3",
   "version": "3.7.3"
  }
 },
 "nbformat": 4,
 "nbformat_minor": 5
}
